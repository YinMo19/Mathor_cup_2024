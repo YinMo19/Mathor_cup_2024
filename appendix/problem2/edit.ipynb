{
 "cells": [
  {
   "cell_type": "code",
   "execution_count": 1,
   "metadata": {},
   "outputs": [
    {
     "data": {
      "text/plain": [
       "(       分拣中心          日期        货量\n",
       " 0  分拣中心_SC1  2023/12/01  45171.02\n",
       " 1  分拣中心_SC1  2023/12/02  45073.51\n",
       " 2  分拣中心_SC1  2023/12/03  43728.75\n",
       " 3  分拣中心_SC1  2023/12/04  42247.68\n",
       " 4  分拣中心_SC1  2023/12/05  44846.95,\n",
       " Index(['分拣中心', '日期', '货量'], dtype='object'))"
      ]
     },
     "execution_count": 1,
     "metadata": {},
     "output_type": "execute_result"
    }
   ],
   "source": [
    "import pandas as pd\n",
    "\n",
    "# Load the CSV file\n",
    "file_path = 'predicted_future_volumes.csv'\n",
    "data = pd.read_csv(file_path)\n",
    "\n",
    "# Display the first few rows and the columns of the dataframe to understand its current structure\n",
    "data.head(), data.columns"
   ]
  },
  {
   "cell_type": "code",
   "execution_count": 2,
   "metadata": {},
   "outputs": [],
   "source": [
    "# Remove the prefix '分拣中心_' from the '分拣中心' column\n",
    "data[\"分拣中心\"] = data[\"分拣中心\"].str.replace(\"分拣中心_\", \"\")\n",
    "\n",
    "# Save the modified dataframe to a new CSV file\n",
    "modified_file_path = \"modified_predicted_future_volumes.csv\"\n",
    "data.to_csv(modified_file_path, index=False)"
   ]
  },
  {
   "cell_type": "code",
   "execution_count": 3,
   "metadata": {},
   "outputs": [
    {
     "data": {
      "text/plain": [
       "(       分拣中心              日期时间           货量\n",
       " 0  分拣中心_SC1  2023/12/01 00:00  3616.277689\n",
       " 1  分拣中心_SC1  2023/12/01 01:00  3870.555044\n",
       " 2  分拣中心_SC1  2023/12/01 02:00  3656.786115\n",
       " 3  分拣中心_SC1  2023/12/01 03:00  3614.042940\n",
       " 4  分拣中心_SC1  2023/12/01 04:00  3531.494714,\n",
       " Index(['分拣中心', '日期时间', '货量'], dtype='object'))"
      ]
     },
     "execution_count": 3,
     "metadata": {},
     "output_type": "execute_result"
    }
   ],
   "source": [
    "new_file_path = \"predicted_future_volumes_hours.csv\"\n",
    "new_data = pd.read_csv(new_file_path)\n",
    "\n",
    "# Display the first few rows and the columns of the new dataframe\n",
    "new_data.head(), new_data.columns"
   ]
  },
  {
   "cell_type": "code",
   "execution_count": 4,
   "metadata": {},
   "outputs": [],
   "source": [
    "# Split '日期时间' into '日期' and '小时'\n",
    "new_data[\"日期\"] = pd.to_datetime(new_data[\"日期时间\"]).dt.date\n",
    "new_data[\"小时\"] = pd.to_datetime(new_data[\"日期时间\"]).dt.hour\n",
    "\n",
    "# Remove the prefix '分拣中心_' from the '分拣中心' column\n",
    "new_data[\"分拣中心\"] = new_data[\"分拣中心\"].str.replace(\"分拣中心_\", \"\")\n",
    "\n",
    "# Rearrange columns and remove the original '日期时间' column\n",
    "new_data = new_data[[\"分拣中心\", \"日期\", \"小时\", \"货量\"]]\n",
    "\n",
    "# Save the modified dataframe to a new CSV file\n",
    "final_modified_file_path = \"final_modified_predicted_future_volumes_hours.csv\"\n",
    "new_data.to_csv(final_modified_file_path, index=False)"
   ]
  }
 ],
 "metadata": {
  "kernelspec": {
   "display_name": "venv",
   "language": "python",
   "name": "python3"
  },
  "language_info": {
   "codemirror_mode": {
    "name": "ipython",
    "version": 3
   },
   "file_extension": ".py",
   "mimetype": "text/x-python",
   "name": "python",
   "nbconvert_exporter": "python",
   "pygments_lexer": "ipython3",
   "version": "3.11.2"
  }
 },
 "nbformat": 4,
 "nbformat_minor": 2
}
