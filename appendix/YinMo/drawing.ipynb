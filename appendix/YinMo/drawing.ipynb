{
 "cells": [
  {
   "cell_type": "markdown",
   "metadata": {},
   "source": [
    "# 可视化\n",
    "## YinMo19"
   ]
  },
  {
   "cell_type": "code",
   "execution_count": 123,
   "metadata": {},
   "outputs": [],
   "source": [
    "import matplotlib.pyplot as plt\n",
    "from matplotlib.axes import Axes\n",
    "from mpl_toolkits.mplot3d import Axes3D\n",
    "import numpy as np\n",
    "from matplotlib.backends.backend_pdf import PdfPages\n",
    "import matplotlib.dates as mdates\n",
    "import datetime\n",
    "\n",
    "from scipy.integrate import odeint\n",
    "from scipy import linalg as la\n",
    "from scipy import optimize\n",
    "import scipy\n",
    "import csv\n",
    "import pandas as pd\n",
    "\n",
    "config = {\n",
    "    \"text.usetex\": True,\n",
    "    \"text.latex.preamble\": r\"\\usepackage{CJK}\",  # 预先导入CJK宏包处理中文\n",
    "}\n",
    "plt.rcParams.update(config)"
   ]
  },
  {
   "cell_type": "markdown",
   "metadata": {},
   "source": [
    "真实数据"
   ]
  },
  {
   "cell_type": "code",
   "execution_count": 144,
   "metadata": {},
   "outputs": [],
   "source": [
    "# 数据加载\n",
    "data = pd.read_csv(\"../../附件/附件1.csv\", encoding=\"GB2312\")\n",
    "ALL_SC = list(set(data[\"分拣中心\"]))\n",
    "data[\"日期\"] = pd.to_datetime(data[\"日期\"])\n",
    "data = data.sort_values(\"日期\")\n",
    "# 数据加载\n",
    "pre_data = pd.read_csv(\"../SC_datas/predicted_volumes.csv\", encoding=\"GB2312\")\n",
    "pre_data[\"date\"] = pd.to_datetime(pre_data[\"date\"])\n",
    "pre_data = pre_data.sort_values(\"date\")"
   ]
  },
  {
   "cell_type": "code",
   "execution_count": 147,
   "metadata": {},
   "outputs": [],
   "source": [
    "for SC_example in ALL_SC:\n",
    "    SC_example = int(SC_example[2:])\n",
    "    data_example = (\n",
    "        data[data[\"分拣中心\"] == f\"SC{SC_example}\"]\n",
    "        .groupby(\"日期\")[\"货量\"]\n",
    "        .sum()\n",
    "        .reset_index()\n",
    "    )\n",
    "    dates = data_example['日期']\n",
    "    values = data_example['货量']\n",
    "\n",
    "    dates = np.array(dates)\n",
    "    values = np.array(values)\n",
    "\n",
    "    # 仅使用SC48分拣中心的数据作为示例\n",
    "    pre_data_example = (\n",
    "        pre_data[pre_data[\"SC_id\"] == SC_example]\n",
    "        .groupby(\"date\")[\"predicted_volume\"]\n",
    "        .sum()\n",
    "        .reset_index()\n",
    "    )\n",
    "    pre_dates = pre_data_example[\"date\"]\n",
    "    pre_values = pre_data_example[\"predicted_volume\"]\n",
    "\n",
    "    pre_dates = np.array(pre_dates)\n",
    "    pre_values = np.array(pre_values)\n",
    "\n",
    "    with PdfPages(f\"images/pre_{SC_example}.pdf\") as pdf:\n",
    "        plt.figure(figsize=(10, 6))\n",
    "        plt.plot(dates, values,label=r\"\\begin{CJK*}{UTF8}{gbsn}真实数据\\end{CJK*}\")\n",
    "        plt.plot(pre_dates, pre_values,label=r\"\\begin{CJK*}{UTF8}{gbsn}拟合数据\\end{CJK*}\")\n",
    "        plt.xlabel(r\"\\begin{CJK*}{UTF8}{gbsn}日期\\end{CJK*}\")\n",
    "        plt.ylabel(r\"\\begin{CJK*}{UTF8}{gbsn}货量\\end{CJK*}\")\n",
    "        plt.legend()\n",
    "        plt.grid(True)\n",
    "        \n",
    "        pdf.savefig()\n",
    "        plt.close()"
   ]
  }
 ],
 "metadata": {
  "kernelspec": {
   "display_name": "venv",
   "language": "python",
   "name": "python3"
  },
  "language_info": {
   "codemirror_mode": {
    "name": "ipython",
    "version": 3
   },
   "file_extension": ".py",
   "mimetype": "text/x-python",
   "name": "python",
   "nbconvert_exporter": "python",
   "pygments_lexer": "ipython3",
   "version": "3.11.2"
  }
 },
 "nbformat": 4,
 "nbformat_minor": 2
}
