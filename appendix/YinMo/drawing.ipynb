{
 "cells": [
  {
   "cell_type": "markdown",
   "metadata": {},
   "source": [
    "# 可视化\n",
    "## YinMo19"
   ]
  },
  {
   "cell_type": "code",
   "execution_count": 28,
   "metadata": {},
   "outputs": [],
   "source": [
    "import matplotlib.pyplot as plt\n",
    "from matplotlib.axes import Axes\n",
    "from mpl_toolkits.mplot3d import Axes3D\n",
    "import numpy as np\n",
    "from matplotlib.backends.backend_pdf import PdfPages\n",
    "import matplotlib.dates as mdates\n",
    "import datetime\n",
    "\n",
    "from scipy.integrate import odeint\n",
    "from scipy import linalg as la\n",
    "from scipy import optimize\n",
    "import scipy\n",
    "import csv\n",
    "import pandas as pd\n",
    "\n",
    "config = {\n",
    "    \"text.usetex\": True,\n",
    "    \"text.latex.preamble\": r\"\\usepackage{CJK}\",  # 预先导入CJK宏包处理中文\n",
    "}\n",
    "plt.rcParams.update(config)"
   ]
  },
  {
   "cell_type": "markdown",
   "metadata": {},
   "source": [
    "真实数据"
   ]
  },
  {
   "cell_type": "code",
   "execution_count": 65,
   "metadata": {},
   "outputs": [],
   "source": [
    "# 数据加载\n",
    "data = pd.read_csv(\"../../附件/附件1.csv\", encoding=\"GB2312\")\n",
    "ALL_SC = list(set(data[\"分拣中心\"]))\n",
    "data[\"日期\"] = pd.to_datetime(data[\"日期\"])\n",
    "data = data.sort_values(\"日期\")\n",
    "# 数据加载\n",
    "pre_data = pd.read_csv(\"../SC_datas/predicted_volumes.csv\", encoding=\"GB2312\")\n",
    "pre_data[\"date\"] = pd.to_datetime(pre_data[\"date\"])\n",
    "pre_data = pre_data.sort_values(\"date\")"
   ]
  },
  {
   "cell_type": "code",
   "execution_count": 73,
   "metadata": {},
   "outputs": [],
   "source": [
    "data_for_sc = pd.read_csv(\"../../附件/附件1.csv\", encoding=\"GB2312\")\n",
    "ALL_SC = list(set(data_for_sc[\"分拣中心\"]))\n",
    "existing_scs = list(map(lambda SC_:int(SC_[2:]),ALL_SC))\n",
    "existing_scs.sort()"
   ]
  },
  {
   "cell_type": "code",
   "execution_count": 30,
   "metadata": {},
   "outputs": [],
   "source": [
    "for SC_example in ALL_SC:\n",
    "    SC_example = int(SC_example[2:])\n",
    "    data_example = (\n",
    "        data[data[\"分拣中心\"] == f\"SC{SC_example}\"]\n",
    "        .groupby(\"日期\")[\"货量\"]\n",
    "        .sum()\n",
    "        .reset_index()\n",
    "    )\n",
    "    dates = data_example['日期']\n",
    "    values = data_example['货量']\n",
    "\n",
    "    dates = np.array(dates)\n",
    "    values = np.array(values)\n",
    "\n",
    "    # 仅使用SC48分拣中心的数据作为示例\n",
    "    pre_data_example = (\n",
    "        pre_data[pre_data[\"SC_id\"] == SC_example]\n",
    "        .groupby(\"date\")[\"predicted_volume\"]\n",
    "        .sum()\n",
    "        .reset_index()\n",
    "    )\n",
    "    pre_dates = pre_data_example[\"date\"]\n",
    "    pre_values = pre_data_example[\"predicted_volume\"]\n",
    "\n",
    "    pre_dates = np.array(pre_dates)\n",
    "    pre_values = np.array(pre_values)\n",
    "\n",
    "    with PdfPages(f\"images/pre_{SC_example}.pdf\") as pdf:\n",
    "        plt.figure(figsize=(10, 6))\n",
    "        plt.plot(dates, values,label=r\"\\begin{CJK*}{UTF8}{gbsn}真实数据\\end{CJK*}\")\n",
    "        plt.plot(pre_dates, pre_values,label=r\"\\begin{CJK*}{UTF8}{gbsn}拟合数据\\end{CJK*}\")\n",
    "        plt.xlabel(r\"\\begin{CJK*}{UTF8}{gbsn}日期\\end{CJK*}\")\n",
    "        plt.ylabel(r\"\\begin{CJK*}{UTF8}{gbsn}货量\\end{CJK*}\")\n",
    "        plt.legend()\n",
    "        plt.grid(True)\n",
    "        \n",
    "        pdf.savefig()\n",
    "        plt.close()"
   ]
  },
  {
   "cell_type": "code",
   "execution_count": 63,
   "metadata": {},
   "outputs": [
    {
     "name": "stderr",
     "output_type": "stream",
     "text": [
      "/tmp/ipykernel_28519/627905187.py:16: MatplotlibDeprecationWarning: The get_cmap function was deprecated in Matplotlib 3.7 and will be removed two minor releases later. Use ``matplotlib.colormaps[name]`` or ``matplotlib.colormaps.get_cmap(obj)`` instead.\n",
      "  color_map = get_cmap(\"viridis\")\n"
     ]
    }
   ],
   "source": [
    "import pandas as pd\n",
    "import numpy as np\n",
    "import matplotlib.pyplot as plt\n",
    "from matplotlib.path import Path\n",
    "import matplotlib.patches as patches\n",
    "from matplotlib.cm import get_cmap\n",
    "\n",
    "# Suppose we have read the following data from a CSV file\n",
    "data = pd.read_csv(\"../../附件/附件3.csv\", encoding=\"GB2312\")\n",
    "\n",
    "df = pd.DataFrame(data)\n",
    "\n",
    "# Assign angles for each unique center\n",
    "centers = pd.concat([df[\"始发分拣中心\"], df[\"到达分拣中心\"]]).unique()\n",
    "angle_map = dict(zip(centers, np.linspace(0, 2 * np.pi, len(centers), endpoint=False)))\n",
    "color_map = get_cmap(\"viridis\")\n",
    "\n",
    "# Define control radius to avoid curves intersecting at the center\n",
    "control_radius_adjusted = 0.5\n",
    "\n",
    "# Line width and dot size\n",
    "line_width = 1.0  # Thinner line\n",
    "dot_size = 40  # Larger dot size\n",
    "\n",
    "# Start plotting\n",
    "fig, ax = plt.subplots(figsize=(10, 10), subplot_kw={\"polar\": True})\n",
    "ax.set_ylim(0, 1.2)\n",
    "ax.axis(\"off\")  # Turn off the axis\n",
    "ax.grid(False)  # No grid\n",
    "\n",
    "# Plot Bezier curves\n",
    "for _, row in df.iterrows():\n",
    "    start_angle = angle_map[row[\"始发分拣中心\"]]\n",
    "    end_angle = angle_map[row[\"到达分拣中心\"]]\n",
    "    alpha = row[\"货量\"] / df[\"货量\"].max()  # Adjust alpha based on weight\n",
    "    color_idx = centers.tolist().index(row[\"始发分拣中心\"]) / len(centers)\n",
    "    start_color = color_map(color_idx)\n",
    "\n",
    "    # Bezier control points\n",
    "    control_angle = (start_angle + end_angle) / 2 + np.pi\n",
    "    control_radius = control_radius_adjusted\n",
    "    verts = [(start_angle, 1), (control_angle, control_radius), (end_angle, 1)]\n",
    "    codes = [Path.MOVETO, Path.CURVE3, Path.CURVE3]\n",
    "    path = Path(verts, codes)\n",
    "    patch = patches.PathPatch(\n",
    "        path, facecolor=\"none\", lw=line_width, edgecolor=start_color, alpha=0.6\n",
    "    )\n",
    "    ax.add_patch(patch)\n",
    "\n",
    "    # Add dots for each center\n",
    "    ax.scatter(\n",
    "        [start_angle], [1], color=start_color, s=dot_size, edgecolors=\"black\", zorder=3\n",
    "    )\n",
    "\n",
    "# Add text labels\n",
    "for center, angle in angle_map.items():\n",
    "    color_idx = centers.tolist().index(center) / len(centers)\n",
    "    ax.text(\n",
    "        angle, 1.07, center, horizontalalignment=\"center\", color=color_map(color_idx)\n",
    "    )\n",
    "\n",
    "with PdfPages(\"xuantu.pdf\") as pdf:\n",
    "    pdf.savefig()\n",
    "    plt.close()"
   ]
  }
 ],
 "metadata": {
  "kernelspec": {
   "display_name": "venv",
   "language": "python",
   "name": "python3"
  },
  "language_info": {
   "codemirror_mode": {
    "name": "ipython",
    "version": 3
   },
   "file_extension": ".py",
   "mimetype": "text/x-python",
   "name": "python",
   "nbconvert_exporter": "python",
   "pygments_lexer": "ipython3",
   "version": "3.11.2"
  }
 },
 "nbformat": 4,
 "nbformat_minor": 2
}
