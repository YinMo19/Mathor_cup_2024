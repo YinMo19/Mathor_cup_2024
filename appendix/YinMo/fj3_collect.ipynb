{
 "cells": [
  {
   "cell_type": "markdown",
   "metadata": {},
   "source": [
    "# 附件三处理\n",
    "## YinMo19"
   ]
  },
  {
   "cell_type": "code",
   "execution_count": 1,
   "metadata": {},
   "outputs": [],
   "source": [
    "import matplotlib.pyplot as plt\n",
    "from matplotlib.axes import Axes\n",
    "from mpl_toolkits.mplot3d import Axes3D\n",
    "import numpy as np\n",
    "from matplotlib.backends.backend_pdf import PdfPages\n",
    "import matplotlib.dates as mdates\n",
    "import datetime\n",
    "\n",
    "from scipy.integrate import odeint\n",
    "from scipy import linalg as la\n",
    "from scipy import optimize\n",
    "import scipy\n",
    "import csv\n",
    "import pandas as pd\n",
    "\n",
    "config = {\n",
    "    \"text.usetex\": True,\n",
    "    \"text.latex.preamble\": r\"\\usepackage{CJK}\",  # 预先导入CJK宏包处理中文\n",
    "}\n",
    "plt.rcParams.update(config)"
   ]
  },
  {
   "cell_type": "code",
   "execution_count": 5,
   "metadata": {},
   "outputs": [
    {
     "data": {
      "text/html": [
       "<div>\n",
       "<style scoped>\n",
       "    .dataframe tbody tr th:only-of-type {\n",
       "        vertical-align: middle;\n",
       "    }\n",
       "\n",
       "    .dataframe tbody tr th {\n",
       "        vertical-align: top;\n",
       "    }\n",
       "\n",
       "    .dataframe thead th {\n",
       "        text-align: right;\n",
       "    }\n",
       "</style>\n",
       "<table border=\"1\" class=\"dataframe\">\n",
       "  <thead>\n",
       "    <tr style=\"text-align: right;\">\n",
       "      <th></th>\n",
       "      <th>始发分拣中心</th>\n",
       "      <th>到达分拣中心</th>\n",
       "      <th>货量</th>\n",
       "    </tr>\n",
       "  </thead>\n",
       "  <tbody>\n",
       "    <tr>\n",
       "      <th>0</th>\n",
       "      <td>SC22</td>\n",
       "      <td>SC8</td>\n",
       "      <td>296</td>\n",
       "    </tr>\n",
       "    <tr>\n",
       "      <th>1</th>\n",
       "      <td>SC18</td>\n",
       "      <td>SC8</td>\n",
       "      <td>213</td>\n",
       "    </tr>\n",
       "    <tr>\n",
       "      <th>2</th>\n",
       "      <td>SC7</td>\n",
       "      <td>SC8</td>\n",
       "      <td>240</td>\n",
       "    </tr>\n",
       "    <tr>\n",
       "      <th>3</th>\n",
       "      <td>SC15</td>\n",
       "      <td>SC8</td>\n",
       "      <td>172</td>\n",
       "    </tr>\n",
       "    <tr>\n",
       "      <th>4</th>\n",
       "      <td>SC52</td>\n",
       "      <td>SC8</td>\n",
       "      <td>72</td>\n",
       "    </tr>\n",
       "  </tbody>\n",
       "</table>\n",
       "</div>"
      ],
      "text/plain": [
       "  始发分拣中心 到达分拣中心   货量\n",
       "0   SC22    SC8  296\n",
       "1   SC18    SC8  213\n",
       "2    SC7    SC8  240\n",
       "3   SC15    SC8  172\n",
       "4   SC52    SC8   72"
      ]
     },
     "execution_count": 5,
     "metadata": {},
     "output_type": "execute_result"
    }
   ],
   "source": [
    "# 数据加载\n",
    "data = pd.read_csv(\"../../附件/附件3.csv\", encoding=\"GB2312\")\n",
    "# 转换为DataFrame\n",
    "df = pd.DataFrame(data)\n",
    "df.head()  # 显示前几行以确认数据正确加载"
   ]
  },
  {
   "cell_type": "code",
   "execution_count": 6,
   "metadata": {},
   "outputs": [
    {
     "data": {
      "text/html": [
       "<div>\n",
       "<style scoped>\n",
       "    .dataframe tbody tr th:only-of-type {\n",
       "        vertical-align: middle;\n",
       "    }\n",
       "\n",
       "    .dataframe tbody tr th {\n",
       "        vertical-align: top;\n",
       "    }\n",
       "\n",
       "    .dataframe thead th {\n",
       "        text-align: right;\n",
       "    }\n",
       "</style>\n",
       "<table border=\"1\" class=\"dataframe\">\n",
       "  <thead>\n",
       "    <tr style=\"text-align: right;\">\n",
       "      <th></th>\n",
       "      <th>始发分拣中心</th>\n",
       "      <th>到达分拣中心</th>\n",
       "      <th>货量</th>\n",
       "      <th>总货量</th>\n",
       "      <th>百分比</th>\n",
       "    </tr>\n",
       "  </thead>\n",
       "  <tbody>\n",
       "    <tr>\n",
       "      <th>0</th>\n",
       "      <td>SC22</td>\n",
       "      <td>SC8</td>\n",
       "      <td>296</td>\n",
       "      <td>1078</td>\n",
       "      <td>27.458256</td>\n",
       "    </tr>\n",
       "    <tr>\n",
       "      <th>1</th>\n",
       "      <td>SC18</td>\n",
       "      <td>SC8</td>\n",
       "      <td>213</td>\n",
       "      <td>1068</td>\n",
       "      <td>19.943820</td>\n",
       "    </tr>\n",
       "    <tr>\n",
       "      <th>2</th>\n",
       "      <td>SC7</td>\n",
       "      <td>SC8</td>\n",
       "      <td>240</td>\n",
       "      <td>876</td>\n",
       "      <td>27.397260</td>\n",
       "    </tr>\n",
       "    <tr>\n",
       "      <th>3</th>\n",
       "      <td>SC15</td>\n",
       "      <td>SC8</td>\n",
       "      <td>172</td>\n",
       "      <td>579</td>\n",
       "      <td>29.706390</td>\n",
       "    </tr>\n",
       "    <tr>\n",
       "      <th>4</th>\n",
       "      <td>SC52</td>\n",
       "      <td>SC8</td>\n",
       "      <td>72</td>\n",
       "      <td>394</td>\n",
       "      <td>18.274112</td>\n",
       "    </tr>\n",
       "  </tbody>\n",
       "</table>\n",
       "</div>"
      ],
      "text/plain": [
       "  始发分拣中心 到达分拣中心   货量   总货量        百分比\n",
       "0   SC22    SC8  296  1078  27.458256\n",
       "1   SC18    SC8  213  1068  19.943820\n",
       "2    SC7    SC8  240   876  27.397260\n",
       "3   SC15    SC8  172   579  29.706390\n",
       "4   SC52    SC8   72   394  18.274112"
      ]
     },
     "execution_count": 6,
     "metadata": {},
     "output_type": "execute_result"
    }
   ],
   "source": [
    "# 步骤1: 计算每个始发仓库的总货量\n",
    "total_shipments = df.groupby('始发分拣中心')['货量'].sum().reset_index()\n",
    "total_shipments.rename(columns={'货量': '总货量'}, inplace=True)\n",
    "\n",
    "# 步骤2: 计算每条记录的百分比\n",
    "df = df.merge(total_shipments, on='始发分拣中心')\n",
    "df['百分比'] = (df['货量'] / df['总货量']) * 100\n",
    "\n",
    "# 结果预览\n",
    "df.head()"
   ]
  },
  {
   "cell_type": "code",
   "execution_count": 7,
   "metadata": {},
   "outputs": [
    {
     "data": {
      "text/plain": [
       "'Shipment_Percentages.csv'"
      ]
     },
     "execution_count": 7,
     "metadata": {},
     "output_type": "execute_result"
    }
   ],
   "source": [
    "# 将结果保存到CSV文件\n",
    "output_file_path = \"Shipment_Percentages.csv\"\n",
    "df.to_csv(output_file_path, index=False)\n",
    "\n",
    "output_file_path"
   ]
  },
  {
   "cell_type": "code",
   "execution_count": 8,
   "metadata": {},
   "outputs": [
    {
     "data": {
      "text/html": [
       "<div>\n",
       "<style scoped>\n",
       "    .dataframe tbody tr th:only-of-type {\n",
       "        vertical-align: middle;\n",
       "    }\n",
       "\n",
       "    .dataframe tbody tr th {\n",
       "        vertical-align: top;\n",
       "    }\n",
       "\n",
       "    .dataframe thead th {\n",
       "        text-align: right;\n",
       "    }\n",
       "</style>\n",
       "<table border=\"1\" class=\"dataframe\">\n",
       "  <thead>\n",
       "    <tr style=\"text-align: right;\">\n",
       "      <th></th>\n",
       "      <th>始发分拣中心</th>\n",
       "      <th>到达分拣中心</th>\n",
       "      <th>关联度百分比</th>\n",
       "    </tr>\n",
       "  </thead>\n",
       "  <tbody>\n",
       "    <tr>\n",
       "      <th>0</th>\n",
       "      <td>SC22</td>\n",
       "      <td>SC8</td>\n",
       "      <td>1.559783</td>\n",
       "    </tr>\n",
       "    <tr>\n",
       "      <th>1</th>\n",
       "      <td>SC18</td>\n",
       "      <td>SC8</td>\n",
       "      <td>1.122411</td>\n",
       "    </tr>\n",
       "    <tr>\n",
       "      <th>2</th>\n",
       "      <td>SC7</td>\n",
       "      <td>SC8</td>\n",
       "      <td>1.264689</td>\n",
       "    </tr>\n",
       "    <tr>\n",
       "      <th>3</th>\n",
       "      <td>SC15</td>\n",
       "      <td>SC8</td>\n",
       "      <td>0.906360</td>\n",
       "    </tr>\n",
       "    <tr>\n",
       "      <th>4</th>\n",
       "      <td>SC52</td>\n",
       "      <td>SC8</td>\n",
       "      <td>0.379407</td>\n",
       "    </tr>\n",
       "  </tbody>\n",
       "</table>\n",
       "</div>"
      ],
      "text/plain": [
       "  始发分拣中心 到达分拣中心    关联度百分比\n",
       "0   SC22    SC8  1.559783\n",
       "1   SC18    SC8  1.122411\n",
       "2    SC7    SC8  1.264689\n",
       "3   SC15    SC8  0.906360\n",
       "4   SC52    SC8  0.379407"
      ]
     },
     "execution_count": 8,
     "metadata": {},
     "output_type": "execute_result"
    }
   ],
   "source": [
    "# 步骤1: 计算整个数据集的总货量\n",
    "total_cargo = df['货量'].sum()\n",
    "\n",
    "# 步骤2: 计算每一对仓库之间货量的百分比\n",
    "df['关联度百分比'] = (df['货量'] / total_cargo) * 100\n",
    "\n",
    "# 只选择需要的列\n",
    "association_df = df[['始发分拣中心', '到达分拣中心', '关联度百分比']]\n",
    "\n",
    "# 结果预览\n",
    "association_df.head()"
   ]
  },
  {
   "cell_type": "code",
   "execution_count": 10,
   "metadata": {},
   "outputs": [],
   "source": [
    "# 将关联度结果保存到CSV文件\n",
    "association_file_path = \"Warehouse_Associations.csv\"\n",
    "association_df.to_csv(association_file_path, index=False)"
   ]
  }
 ],
 "metadata": {
  "kernelspec": {
   "display_name": "venv",
   "language": "python",
   "name": "python3"
  },
  "language_info": {
   "codemirror_mode": {
    "name": "ipython",
    "version": 3
   },
   "file_extension": ".py",
   "mimetype": "text/x-python",
   "name": "python",
   "nbconvert_exporter": "python",
   "pygments_lexer": "ipython3",
   "version": "3.11.2"
  }
 },
 "nbformat": 4,
 "nbformat_minor": 2
}
