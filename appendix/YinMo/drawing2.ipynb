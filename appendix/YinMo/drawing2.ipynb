{
 "cells": [
  {
   "cell_type": "code",
   "execution_count": 2,
   "metadata": {},
   "outputs": [],
   "source": [
    "import matplotlib.pyplot as plt\n",
    "from matplotlib.axes import Axes\n",
    "from mpl_toolkits.mplot3d import Axes3D\n",
    "import numpy as np\n",
    "from matplotlib.backends.backend_pdf import PdfPages\n",
    "import matplotlib.dates as mdates\n",
    "import datetime\n",
    "\n",
    "from scipy.integrate import odeint\n",
    "from scipy import linalg as la\n",
    "from scipy import optimize\n",
    "import scipy\n",
    "import csv\n",
    "import pandas as pd\n",
    "\n",
    "config = {\n",
    "    \"text.usetex\": True,\n",
    "    \"text.latex.preamble\": r\"\\usepackage{CJK}\",  # 预先导入CJK宏包处理中文\n",
    "}\n",
    "plt.rcParams.update(config)"
   ]
  },
  {
   "cell_type": "code",
   "execution_count": 14,
   "metadata": {},
   "outputs": [],
   "source": [
    "# 数据加载\n",
    "df = pd.read_csv(\"../../附件/附件2.csv\", encoding=\"UTF8\")\n",
    "\n",
    "# 确保日期列是日期格式\n",
    "df['日期'] = pd.to_datetime(df['日期'])\n",
    "\n",
    "# 按分拣中心、日期和小时排序\n",
    "df_sorted = df.sort_values(by=['分拣中心', '日期', '小时'])\n",
    "\n",
    "# 保存排序后的结果到新的CSV文件\n",
    "df_sorted.to_csv('sorted_data.csv', index=False)\n"
   ]
  },
  {
   "cell_type": "code",
   "execution_count": 4,
   "metadata": {},
   "outputs": [],
   "source": [
    "data_for_sc = pd.read_csv(\"../../附件/附件1.csv\", encoding=\"GB2312\")\n",
    "ALL_SC = list(set(data_for_sc[\"分拣中心\"]))\n",
    "existing_scs = list(map(lambda SC_:int(SC_[2:]),ALL_SC))\n",
    "existing_scs.sort()"
   ]
  },
  {
   "cell_type": "code",
   "execution_count": null,
   "metadata": {},
   "outputs": [],
   "source": []
  }
 ],
 "metadata": {
  "kernelspec": {
   "display_name": "venv",
   "language": "python",
   "name": "python3"
  },
  "language_info": {
   "codemirror_mode": {
    "name": "ipython",
    "version": 3
   },
   "file_extension": ".py",
   "mimetype": "text/x-python",
   "name": "python",
   "nbconvert_exporter": "python",
   "pygments_lexer": "ipython3",
   "version": "3.11.2"
  }
 },
 "nbformat": 4,
 "nbformat_minor": 2
}
