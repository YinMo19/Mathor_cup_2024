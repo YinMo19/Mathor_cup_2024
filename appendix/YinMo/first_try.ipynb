{
 "cells": [
  {
   "cell_type": "markdown",
   "metadata": {},
   "source": [
    "# MathorCup 2024 论文支撑材料\n",
    "## YinMo19"
   ]
  },
  {
   "cell_type": "code",
   "execution_count": 74,
   "metadata": {},
   "outputs": [],
   "source": [
    "import matplotlib.pyplot as plt\n",
    "from matplotlib.axes import Axes\n",
    "from mpl_toolkits.mplot3d import Axes3D\n",
    "import numpy as np\n",
    "from matplotlib.backends.backend_pdf import PdfPages\n",
    "\n",
    "from scipy.integrate import odeint\n",
    "from scipy import linalg as la\n",
    "from scipy import optimize\n",
    "import scipy\n",
    "import csv\n",
    "import pandas as pd\n",
    "\n",
    "config = {\n",
    "    \"text.usetex\": True,\n",
    "    \"text.latex.preamble\": r\"\\usepackage{CJK}\",  # 预先导入CJK宏包处理中文\n",
    "}\n",
    "plt.rcParams.update(config)"
   ]
  },
  {
   "cell_type": "markdown",
   "metadata": {},
   "source": [
    "## 读入数据"
   ]
  },
  {
   "cell_type": "code",
   "execution_count": 75,
   "metadata": {},
   "outputs": [],
   "source": [
    "data = []\n",
    "with open(\"../../附件/附件1.csv\", \"r\", encoding=\"gb2312\") as file:\n",
    "    csv_reader = csv.reader(file)\n",
    "    for row in csv_reader:\n",
    "        data.append(row)\n",
    "        \n",
    "head = data[0]"
   ]
  },
  {
   "cell_type": "code",
   "execution_count": 76,
   "metadata": {},
   "outputs": [],
   "source": [
    "ALL_SC = list(set(list(np.array(data)[1:,0])))\n",
    "data = np.array(data)"
   ]
  },
  {
   "cell_type": "markdown",
   "metadata": {},
   "source": [
    "各种数据的声明：\n",
    "- `data`：所有数据，以二重列表的形式，将每一行作为一个列表。\n",
    "- `head`：表头\n",
    "- `ALL_SC`：无序的所有`SC__`的合集\n",
    "- `datas`: 货物量，以`SC__`为分类方法"
   ]
  },
  {
   "cell_type": "markdown",
   "metadata": {},
   "source": [
    "将数据分开"
   ]
  },
  {
   "cell_type": "code",
   "execution_count": 77,
   "metadata": {
    "notebookRunGroups": {
     "groupValue": ""
    }
   },
   "outputs": [],
   "source": [
    "datas = np.array(\n",
    "    [[data__[2] for data__ in data[1:] if data__[0] == SC_] for SC_ in ALL_SC],\n",
    "    dtype=\"int64\",\n",
    ")"
   ]
  },
  {
   "cell_type": "markdown",
   "metadata": {},
   "source": [
    "写入csv文件，分开储存"
   ]
  },
  {
   "cell_type": "code",
   "execution_count": 78,
   "metadata": {},
   "outputs": [],
   "source": [
    "for SC_ in ALL_SC:\n",
    "    with open(f\"../SC_datas/{SC_}.csv\", mode=\"w\", newline=\"\") as file:\n",
    "        writer = csv.writer(file)\n",
    "        writer.writerow(head)\n",
    "        \n",
    "        for row in data:\n",
    "            if row[0] == SC_:\n",
    "                writer.writerow(row)"
   ]
  },
  {
   "cell_type": "markdown",
   "metadata": {},
   "source": [
    "## 箱线图绘制"
   ]
  },
  {
   "cell_type": "code",
   "execution_count": 79,
   "metadata": {},
   "outputs": [],
   "source": [
    "# 创建图表\n",
    "fig, ax = plt.subplots(2, 3,figsize=(18, 10))\n",
    "ax[0][0].boxplot(list(datas[0:9]), patch_artist=True, sym=\"+\", labels=ALL_SC[0:9])\n",
    "ax[0][1].boxplot(list(datas[10:19]), patch_artist=True, sym=\"+\", labels=ALL_SC[10:19])\n",
    "ax[1][0].boxplot(list(datas[20:29]), patch_artist=True, sym=\"+\", labels=ALL_SC[20:29])\n",
    "ax[1][1].boxplot(list(datas[30:39]), patch_artist=True, sym=\"+\", labels=ALL_SC[30:39])\n",
    "ax[0][2].boxplot(list(datas[40:49]), patch_artist=True, sym=\"+\", labels=ALL_SC[40:49])\n",
    "ax[1][2].boxplot(list(datas[50:56]), patch_artist=True, sym=\"+\", labels=ALL_SC[50:56])\n",
    "\n",
    "# 显示图表\n",
    "with PdfPages(\"images/xxt_1.pdf\") as pdf:\n",
    "    pdf.savefig()\n",
    "    plt.close()"
   ]
  },
  {
   "cell_type": "markdown",
   "metadata": {},
   "source": [
    "清洗数据之后的箱线图"
   ]
  },
  {
   "cell_type": "code",
   "execution_count": 80,
   "metadata": {},
   "outputs": [],
   "source": [
    "# 创建图表\n",
    "fig, ax = plt.subplots(2, 3,figsize=(18, 10))\n",
    "ax[0][0].boxplot(list(datas[0:9]), patch_artist=True, sym=\"\", labels=ALL_SC[0:9])\n",
    "ax[0][1].boxplot(list(datas[10:19]), patch_artist=True, sym=\"\", labels=ALL_SC[10:19])\n",
    "ax[1][0].boxplot(list(datas[20:29]), patch_artist=True, sym=\"\", labels=ALL_SC[20:29])\n",
    "ax[1][1].boxplot(list(datas[30:39]), patch_artist=True, sym=\"\", labels=ALL_SC[30:39])\n",
    "ax[0][2].boxplot(list(datas[40:49]), patch_artist=True, sym=\"\", labels=ALL_SC[40:49])\n",
    "ax[1][2].boxplot(list(datas[50:56]), patch_artist=True, sym=\"\", labels=ALL_SC[50:56])\n",
    "\n",
    "# 显示图表\n",
    "with PdfPages(\"images/xxt_2.pdf\") as pdf:\n",
    "    pdf.savefig()\n",
    "    plt.close()"
   ]
  },
  {
   "cell_type": "markdown",
   "metadata": {},
   "source": [
    "清洗数据之后的csv"
   ]
  },
  {
   "cell_type": "code",
   "execution_count": 97,
   "metadata": {},
   "outputs": [],
   "source": [
    "for SC_ in ALL_SC:\n",
    "    # 读取CSV数据\n",
    "    data = pd.read_csv(\n",
    "        f\"../SC_datas/{SC_}.csv\", header=None, names=[\"分拣中心\", \"日期\", \"货量\"]\n",
    "    )\n",
    "\n",
    "    data[\"货量\"] = pd.to_numeric(data[\"货量\"], errors=\"coerce\")\n",
    "    data = data.dropna(subset=[\"货量\"])\n",
    "\n",
    "    # 根据异常值标准删除行\n",
    "    q1 = data[\"货量\"].quantile(0.25)\n",
    "    q3 = data[\"货量\"].quantile(0.75)\n",
    "    iqr = q3 - q1\n",
    "    lower_bound = q1 - 1.5 * iqr\n",
    "    upper_bound = q3 + 1.5 * iqr\n",
    "\n",
    "    data = data[(data[\"货量\"] >= lower_bound) & (data[\"货量\"] <= upper_bound)]\n",
    "\n",
    "    # 将处理后的数据写入新的CSV文件\n",
    "    data.to_csv(f\"../processed_SC/processed_{SC_}.csv\", index=False)"
   ]
  },
  {
   "cell_type": "code",
   "execution_count": 100,
   "metadata": {},
   "outputs": [
    {
     "name": "stdout",
     "output_type": "stream",
     "text": [
      "['SC58', 'SC4', 'SC52', 'SC10', 'SC28', 'SC3', 'SC18', 'SC35', 'SC25', 'SC9', 'SC43', 'SC19', 'SC47', 'SC1', 'SC14', 'SC5', 'SC44', 'SC61', 'SC63', 'SC46', 'SC2', 'SC20', 'SC55', 'SC60', 'SC24', 'SC68', 'SC66', 'SC34', 'SC37', 'SC6', 'SC26', 'SC36', 'SC21', 'SC57', 'SC27', 'SC41', 'SC39', 'SC15', 'SC32', 'SC23', 'SC17', 'SC56', 'SC12', 'SC30', 'SC7', 'SC8', 'SC29', 'SC48', 'SC40', 'SC22', 'SC54', 'SC16', 'SC51', 'SC49', 'SC31', 'SC38', 'SC53']\n"
     ]
    }
   ],
   "source": [
    "print(ALL_SC)"
   ]
  }
 ],
 "metadata": {
  "kernelspec": {
   "display_name": "venv",
   "language": "python",
   "name": "python3"
  },
  "language_info": {
   "codemirror_mode": {
    "name": "ipython",
    "version": 3
   },
   "file_extension": ".py",
   "mimetype": "text/x-python",
   "name": "python",
   "nbconvert_exporter": "python",
   "pygments_lexer": "ipython3",
   "version": "3.11.2"
  }
 },
 "nbformat": 4,
 "nbformat_minor": 2
}
