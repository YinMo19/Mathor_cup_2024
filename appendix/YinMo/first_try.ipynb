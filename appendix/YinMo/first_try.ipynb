{
 "cells": [
  {
   "cell_type": "markdown",
   "metadata": {},
   "source": [
    "# MathorCup 2024 论文支撑材料\n",
    "## YinMo19"
   ]
  },
  {
   "cell_type": "code",
   "execution_count": 1,
   "metadata": {},
   "outputs": [],
   "source": [
    "# from mpl_toolkits import mplot3d\n",
    "import matplotlib as mpl\n",
    "import matplotlib.pyplot as plt\n",
    "from matplotlib.axes import Axes\n",
    "from mpl_toolkits.mplot3d import Axes3D\n",
    "import numpy as np\n",
    "from matplotlib.backends.backend_pdf import PdfPages\n",
    "from matplotlib.animation import FuncAnimation\n",
    "import matplotlib.dates as mdates\n",
    "import datetime\n",
    "\n",
    "from scipy.integrate import odeint\n",
    "from scipy import linalg as la\n",
    "from scipy import optimize\n",
    "import scipy\n",
    "import csv\n",
    "\n",
    "config = {\n",
    "    \"text.usetex\": True,\n",
    "    \"text.latex.preamble\": r\"\\usepackage{CJK}\",  # 预先导入CJK宏包处理中文\n",
    "}\n",
    "plt.rcParams.update(config)"
   ]
  },
  {
   "cell_type": "markdown",
   "metadata": {},
   "source": [
    "## 读入数据"
   ]
  },
  {
   "cell_type": "code",
   "execution_count": 34,
   "metadata": {},
   "outputs": [],
   "source": [
    "data = []\n",
    "with open(\"../../附件/附件1.csv\", \"r\", encoding=\"gb2312\") as file:\n",
    "    csv_reader = csv.reader(file)\n",
    "    for row in csv_reader:\n",
    "        data.append(row)\n",
    "        \n",
    "head = data[0]"
   ]
  },
  {
   "cell_type": "code",
   "execution_count": 3,
   "metadata": {},
   "outputs": [],
   "source": [
    "ALL_SC = list(set(list(np.array(data)[1:,0])))\n",
    "data = np.array(data)"
   ]
  },
  {
   "cell_type": "markdown",
   "metadata": {},
   "source": [
    "将数据分开"
   ]
  },
  {
   "cell_type": "code",
   "execution_count": 39,
   "metadata": {},
   "outputs": [],
   "source": [
    "datas = np.array(\n",
    "    [[data__[2] for data__ in data[1:] if data__[0] == SC_] for SC_ in ALL_SC],\n",
    "    dtype=\"int64\",\n",
    ")"
   ]
  },
  {
   "cell_type": "markdown",
   "metadata": {},
   "source": [
    "写入csv文件，分开储存"
   ]
  },
  {
   "cell_type": "code",
   "execution_count": 41,
   "metadata": {},
   "outputs": [],
   "source": [
    "for SC_ in ALL_SC:\n",
    "    with open(f\"../SC_datas/{SC_}.csv\", mode=\"w\", newline=\"\") as file:\n",
    "        writer = csv.writer(file)\n",
    "        writer.writerow(head)\n",
    "        \n",
    "        for row in data:\n",
    "            if row[0] == SC_:\n",
    "                writer.writerow(row)"
   ]
  },
  {
   "cell_type": "code",
   "execution_count": 31,
   "metadata": {},
   "outputs": [
    {
     "data": {
      "image/png": "[encoded data removed]",
      "text/plain": [
       "<Figure size 640x480 with 1 Axes>"
      ]
     },
     "metadata": {},
     "output_type": "display_data"
    }
   ],
   "source": [
    "# 创建图表\n",
    "plt.figure()\n",
    "plt.boxplot(list(datas[0:10]), patch_artist=True, sym=\"None\",labels=ALL_SC[0:10])\n",
    "\n",
    "# 显示图表\n",
    "plt.show()"
   ]
  }
 ],
 "metadata": {
  "kernelspec": {
   "display_name": "venv",
   "language": "python",
   "name": "python3"
  },
  "language_info": {
   "codemirror_mode": {
    "name": "ipython",
    "version": 3
   },
   "file_extension": ".py",
   "mimetype": "text/x-python",
   "name": "python",
   "nbconvert_exporter": "python",
   "pygments_lexer": "ipython3",
   "version": "3.11.2"
  }
 },
 "nbformat": 4,
 "nbformat_minor": 2
}
