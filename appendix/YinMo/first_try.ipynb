{
 "cells": [
  {
   "cell_type": "markdown",
   "metadata": {},
   "source": [
    "# MathorCup 2024 论文支撑材料\n",
    "## YinMo19"
   ]
  },
  {
   "cell_type": "code",
   "execution_count": 1,
   "metadata": {},
   "outputs": [],
   "source": [
    "# from mpl_toolkits import mplot3d\n",
    "import matplotlib as mpl\n",
    "import matplotlib.pyplot as plt\n",
    "from matplotlib.axes import Axes\n",
    "from mpl_toolkits.mplot3d import Axes3D\n",
    "import numpy as np\n",
    "from matplotlib.backends.backend_pdf import PdfPages\n",
    "from matplotlib.animation import FuncAnimation\n",
    "from scipy.integrate import odeint\n",
    "from scipy import linalg as la\n",
    "from scipy import optimize\n",
    "import scipy\n",
    "\n",
    "config = {\n",
    "    \"text.usetex\": True,\n",
    "    \"text.latex.preamble\": r\"\\usepackage{CJK}\",  # 预先导入CJK宏包处理中文\n",
    "}\n",
    "plt.rcParams.update(config)"
   ]
  }
 ],
 "metadata": {
  "kernelspec": {
   "display_name": "venv",
   "language": "python",
   "name": "python3"
  },
  "language_info": {
   "codemirror_mode": {
    "name": "ipython",
    "version": 3
   },
   "file_extension": ".py",
   "mimetype": "text/x-python",
   "name": "python",
   "nbconvert_exporter": "python",
   "pygments_lexer": "ipython3",
   "version": "3.11.2"
  }
 },
 "nbformat": 4,
 "nbformat_minor": 2
}
