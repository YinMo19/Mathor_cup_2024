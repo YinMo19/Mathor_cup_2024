{
 "cells": [
  {
   "cell_type": "markdown",
   "metadata": {},
   "source": [
    "# MathorCup 2024 论文支撑材料\n",
    "## YinMo19"
   ]
  },
  {
   "cell_type": "code",
   "execution_count": 1,
   "metadata": {},
   "outputs": [],
   "source": [
    "import matplotlib.pyplot as plt\n",
    "from matplotlib.axes import Axes\n",
    "from mpl_toolkits.mplot3d import Axes3D\n",
    "import numpy as np\n",
    "from matplotlib.backends.backend_pdf import PdfPages\n",
    "\n",
    "from scipy.integrate import odeint\n",
    "from scipy import linalg as la\n",
    "from scipy import optimize\n",
    "import scipy\n",
    "import csv\n",
    "\n",
    "config = {\n",
    "    \"text.usetex\": True,\n",
    "    \"text.latex.preamble\": r\"\\usepackage{CJK}\",  # 预先导入CJK宏包处理中文\n",
    "}\n",
    "plt.rcParams.update(config)"
   ]
  },
  {
   "cell_type": "markdown",
   "metadata": {},
   "source": [
    "## 读入数据"
   ]
  },
  {
   "cell_type": "code",
   "execution_count": 34,
   "metadata": {},
   "outputs": [],
   "source": [
    "data = []\n",
    "with open(\"../../附件/附件1.csv\", \"r\", encoding=\"gb2312\") as file:\n",
    "    csv_reader = csv.reader(file)\n",
    "    for row in csv_reader:\n",
    "        data.append(row)\n",
    "        \n",
    "head = data[0]"
   ]
  },
  {
   "cell_type": "code",
   "execution_count": 3,
   "metadata": {},
   "outputs": [],
   "source": [
    "ALL_SC = list(set(list(np.array(data)[1:,0])))\n",
    "data = np.array(data)"
   ]
  },
  {
   "cell_type": "markdown",
   "metadata": {},
   "source": [
    "各种数据的声明：\n",
    "- `data`：所有数据，以二重列表的形式，将每一行作为一个列表。\n",
    "- `head`：表头\n",
    "- `ALL_SC`：无序的所有`SC__`的合集\n",
    "- `datas`: 货物量，以`SC__`为分类方法"
   ]
  },
  {
   "cell_type": "markdown",
   "metadata": {},
   "source": [
    "将数据分开"
   ]
  },
  {
   "cell_type": "code",
   "execution_count": 39,
   "metadata": {
    "notebookRunGroups": {
     "groupValue": ""
    }
   },
   "outputs": [],
   "source": [
    "datas = np.array(\n",
    "    [[data__[2] for data__ in data[1:] if data__[0] == SC_] for SC_ in ALL_SC],\n",
    "    dtype=\"int64\",\n",
    ")"
   ]
  },
  {
   "cell_type": "markdown",
   "metadata": {},
   "source": [
    "写入csv文件，分开储存"
   ]
  },
  {
   "cell_type": "code",
   "execution_count": 41,
   "metadata": {},
   "outputs": [],
   "source": [
    "for SC_ in ALL_SC:\n",
    "    with open(f\"../SC_datas/{SC_}.csv\", mode=\"w\", newline=\"\") as file:\n",
    "        writer = csv.writer(file)\n",
    "        writer.writerow(head)\n",
    "        \n",
    "        for row in data:\n",
    "            if row[0] == SC_:\n",
    "                writer.writerow(row)"
   ]
  },
  {
   "cell_type": "markdown",
   "metadata": {},
   "source": [
    "## 箱线图绘制"
   ]
  },
  {
   "cell_type": "code",
   "execution_count": 70,
   "metadata": {},
   "outputs": [],
   "source": [
    "# 创建图表\n",
    "fig, ax = plt.subplots(2, 3,figsize=(18, 10))\n",
    "ax[0][0].boxplot(list(datas[0:9]), patch_artist=True, sym=\"+\", labels=ALL_SC[0:9])\n",
    "ax[0][1].boxplot(list(datas[10:19]), patch_artist=True, sym=\"+\", labels=ALL_SC[10:19])\n",
    "ax[1][0].boxplot(list(datas[20:29]), patch_artist=True, sym=\"+\", labels=ALL_SC[20:29])\n",
    "ax[1][1].boxplot(list(datas[30:39]), patch_artist=True, sym=\"+\", labels=ALL_SC[30:39])\n",
    "ax[0][2].boxplot(list(datas[40:49]), patch_artist=True, sym=\"+\", labels=ALL_SC[40:49])\n",
    "ax[1][2].boxplot(list(datas[50:56]), patch_artist=True, sym=\"+\", labels=ALL_SC[50:56])\n",
    "\n",
    "# 显示图表\n",
    "with PdfPages(\"images/xxt_1.pdf\") as pdf:\n",
    "    pdf.savefig()\n",
    "    plt.close()"
   ]
  },
  {
   "cell_type": "markdown",
   "metadata": {},
   "source": [
    "清洗数据之后的箱线图"
   ]
  },
  {
   "cell_type": "code",
   "execution_count": 71,
   "metadata": {},
   "outputs": [],
   "source": [
    "# 创建图表\n",
    "fig, ax = plt.subplots(2, 3,figsize=(18, 10))\n",
    "ax[0][0].boxplot(list(datas[0:9]), patch_artist=True, sym=\"\", labels=ALL_SC[0:9])\n",
    "ax[0][1].boxplot(list(datas[10:19]), patch_artist=True, sym=\"\", labels=ALL_SC[10:19])\n",
    "ax[1][0].boxplot(list(datas[20:29]), patch_artist=True, sym=\"\", labels=ALL_SC[20:29])\n",
    "ax[1][1].boxplot(list(datas[30:39]), patch_artist=True, sym=\"\", labels=ALL_SC[30:39])\n",
    "ax[0][2].boxplot(list(datas[40:49]), patch_artist=True, sym=\"\", labels=ALL_SC[40:49])\n",
    "ax[1][2].boxplot(list(datas[50:56]), patch_artist=True, sym=\"\", labels=ALL_SC[50:56])\n",
    "\n",
    "# 显示图表\n",
    "with PdfPages(\"images/xxt_2.pdf\") as pdf:\n",
    "    pdf.savefig()\n",
    "    plt.close()"
   ]
  },
  {
   "cell_type": "markdown",
   "metadata": {},
   "source": [
    "清晰数据之后的csv"
   ]
  }
 ],
 "metadata": {
  "kernelspec": {
   "display_name": "venv",
   "language": "python",
   "name": "python3"
  },
  "language_info": {
   "codemirror_mode": {
    "name": "ipython",
    "version": 3
   },
   "file_extension": ".py",
   "mimetype": "text/x-python",
   "name": "python",
   "nbconvert_exporter": "python",
   "pygments_lexer": "ipython3",
   "version": "3.11.2"
  }
 },
 "nbformat": 4,
 "nbformat_minor": 2
}
