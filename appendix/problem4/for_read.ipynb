{
 "cells": [
  {
   "cell_type": "code",
   "execution_count": 2,
   "metadata": {},
   "outputs": [],
   "source": [
    "import pandas as pd\n",
    "import numpy as np"
   ]
  },
  {
   "cell_type": "code",
   "execution_count": 3,
   "metadata": {},
   "outputs": [
    {
     "name": "stderr",
     "output_type": "stream",
     "text": [
      "/tmp/ipykernel_7865/1174173069.py:3: SettingWithCopyWarning: \n",
      "A value is trying to be set on a copy of a slice from a DataFrame.\n",
      "Try using .loc[row_indexer,col_indexer] = value instead\n",
      "\n",
      "See the caveats in the documentation: https://pandas.pydata.org/pandas-docs/stable/user_guide/indexing.html#returning-a-view-versus-a-copy\n",
      "  filtered_data[\"分拣中心\"] = filtered_data[\"分拣中心\"].str.replace(\"分拣中心_\", \"\")\n"
     ]
    }
   ],
   "source": [
    "data = pd.read_csv(\"../problem2/predicted_future_volumes_hours.csv\")\n",
    "filtered_data = data[data[\"分拣中心\"].str.contains(\"分拣中心_SC60\")]\n",
    "filtered_data[\"分拣中心\"] = filtered_data[\"分拣中心\"].str.replace(\"分拣中心_\", \"\")"
   ]
  },
  {
   "cell_type": "code",
   "execution_count": 4,
   "metadata": {},
   "outputs": [
    {
     "name": "stderr",
     "output_type": "stream",
     "text": [
      "/tmp/ipykernel_7865/591029256.py:2: SettingWithCopyWarning: \n",
      "A value is trying to be set on a copy of a slice from a DataFrame.\n",
      "Try using .loc[row_indexer,col_indexer] = value instead\n",
      "\n",
      "See the caveats in the documentation: https://pandas.pydata.org/pandas-docs/stable/user_guide/indexing.html#returning-a-view-versus-a-copy\n",
      "  filtered_data['日期时间'] = pd.to_datetime(filtered_data['日期时间'])\n",
      "/tmp/ipykernel_7865/591029256.py:5: SettingWithCopyWarning: \n",
      "A value is trying to be set on a copy of a slice from a DataFrame.\n",
      "Try using .loc[row_indexer,col_indexer] = value instead\n",
      "\n",
      "See the caveats in the documentation: https://pandas.pydata.org/pandas-docs/stable/user_guide/indexing.html#returning-a-view-versus-a-copy\n",
      "  filtered_data['date'] = filtered_data['日期时间'].dt.date\n",
      "/tmp/ipykernel_7865/591029256.py:6: SettingWithCopyWarning: \n",
      "A value is trying to be set on a copy of a slice from a DataFrame.\n",
      "Try using .loc[row_indexer,col_indexer] = value instead\n",
      "\n",
      "See the caveats in the documentation: https://pandas.pydata.org/pandas-docs/stable/user_guide/indexing.html#returning-a-view-versus-a-copy\n",
      "  filtered_data['hour'] = filtered_data['日期时间'].dt.hour\n",
      "/tmp/ipykernel_7865/591029256.py:9: SettingWithCopyWarning: \n",
      "A value is trying to be set on a copy of a slice from a DataFrame\n",
      "\n",
      "See the caveats in the documentation: https://pandas.pydata.org/pandas-docs/stable/user_guide/indexing.html#returning-a-view-versus-a-copy\n",
      "  filtered_data.rename(columns={'货量': 'value'}, inplace=True)\n",
      "/tmp/ipykernel_7865/591029256.py:12: SettingWithCopyWarning: \n",
      "A value is trying to be set on a copy of a slice from a DataFrame\n",
      "\n",
      "See the caveats in the documentation: https://pandas.pydata.org/pandas-docs/stable/user_guide/indexing.html#returning-a-view-versus-a-copy\n",
      "  filtered_data.drop(columns=['日期时间'], inplace=True)\n",
      "/tmp/ipykernel_7865/591029256.py:15: SettingWithCopyWarning: \n",
      "A value is trying to be set on a copy of a slice from a DataFrame.\n",
      "Try using .loc[row_indexer,col_indexer] = value instead\n",
      "\n",
      "See the caveats in the documentation: https://pandas.pydata.org/pandas-docs/stable/user_guide/indexing.html#returning-a-view-versus-a-copy\n",
      "  filtered_data['分拣中心'] = 'SC60'\n",
      "/tmp/ipykernel_7865/591029256.py:18: SettingWithCopyWarning: \n",
      "A value is trying to be set on a copy of a slice from a DataFrame\n",
      "\n",
      "See the caveats in the documentation: https://pandas.pydata.org/pandas-docs/stable/user_guide/indexing.html#returning-a-view-versus-a-copy\n",
      "  filtered_data.rename(columns={'分拣中心': 'SC_ID'}, inplace=True)\n"
     ]
    }
   ],
   "source": [
    "# 确保日期时间列是日期时间格式\n",
    "filtered_data['日期时间'] = pd.to_datetime(filtered_data['日期时间'])\n",
    "\n",
    "# 分离日期和时间\n",
    "filtered_data['date'] = filtered_data['日期时间'].dt.date\n",
    "filtered_data['hour'] = filtered_data['日期时间'].dt.hour\n",
    "\n",
    "# 重命名货量列\n",
    "filtered_data.rename(columns={'货量': 'value'}, inplace=True)\n",
    "\n",
    "# 删去原始的日期时间列\n",
    "filtered_data.drop(columns=['日期时间'], inplace=True)\n",
    "\n",
    "# 重命名分拣中心名称（假设全部更改为'SC60'）\n",
    "filtered_data['分拣中心'] = 'SC60'\n",
    "\n",
    "# 重命名其余的列\n",
    "filtered_data.rename(columns={'分拣中心': 'SC_ID'}, inplace=True)\n",
    "\n",
    "# 调整列顺序\n",
    "filtered_data = filtered_data[['SC_ID', 'date', 'hour', 'value']]\n",
    "filtered_data.to_csv(\"for_read.csv\", index=False)"
   ]
  }
 ],
 "metadata": {
  "kernelspec": {
   "display_name": "venv",
   "language": "python",
   "name": "python3"
  },
  "language_info": {
   "codemirror_mode": {
    "name": "ipython",
    "version": 3
   },
   "file_extension": ".py",
   "mimetype": "text/x-python",
   "name": "python",
   "nbconvert_exporter": "python",
   "pygments_lexer": "ipython3",
   "version": "3.11.2"
  }
 },
 "nbformat": 4,
 "nbformat_minor": 2
}
