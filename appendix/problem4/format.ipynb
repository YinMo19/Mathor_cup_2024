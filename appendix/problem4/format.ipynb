{
 "cells": [
  {
   "cell_type": "code",
   "execution_count": 10,
   "metadata": {},
   "outputs": [],
   "source": [
    "import pandas as pd\n",
    "\n",
    "# Load the provided CSV file to see its structure\n",
    "file_path = \"scheduling_results_2.csv\"\n",
    "data = pd.read_csv(file_path)"
   ]
  },
  {
   "cell_type": "code",
   "execution_count": 11,
   "metadata": {},
   "outputs": [],
   "source": [
    "# Define the mapping for employee types\n",
    "employee_type_mapping = {\"Temp\": \"临时工\", \"FullTime\": \"正式工\"}\n",
    "\n",
    "# Apply the mapping to the 'Employee' column\n",
    "data[\"Employee\"] = data[\"Employee\"].replace(\n",
    "    to_replace=r\"^(Temp|FullTime)\\((\\d+)\\)$\", value=r\"\\1\\2\", regex=True\n",
    ")\n",
    "\n",
    "# Replace English terms with Chinese terms as per the mapping\n",
    "data[\"Employee\"] = data[\"Employee\"].replace(employee_type_mapping, regex=True)\n",
    "\n",
    "# Now we will modify the shift times using the provided mapping\n",
    "shift_mapping = {\n",
    "    \"Shift1\": \"00:00-08:00\",\n",
    "    \"Shift2\": \"05:00-13:00\",\n",
    "    \"Shift3\": \"08:00-16:00\",\n",
    "    \"Shift4\": \"12:00-20:00\",\n",
    "    \"Shift5\": \"14:00-22:00\",\n",
    "    \"Shift6\": \"16:00-24:00\",\n",
    "}\n",
    "\n",
    "# Apply the shift mapping to the 'Shift' column\n",
    "data[\"Shift\"] = data[\"Shift\"].map(shift_mapping)\n",
    "\n",
    "# Save the modified dataframe to a new CSV file\n",
    "output_file_path = \"modified_scheduling_results.csv\"\n",
    "data.to_csv(output_file_path , index=False, encoding='utf_8_sig')"
   ]
  }
 ],
 "metadata": {
  "kernelspec": {
   "display_name": "venv",
   "language": "python",
   "name": "python3"
  },
  "language_info": {
   "codemirror_mode": {
    "name": "ipython",
    "version": 3
   },
   "file_extension": ".py",
   "mimetype": "text/x-python",
   "name": "python",
   "nbconvert_exporter": "python",
   "pygments_lexer": "ipython3",
   "version": "3.11.2"
  }
 },
 "nbformat": 4,
 "nbformat_minor": 2
}
